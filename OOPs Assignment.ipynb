{
 "cells": [
  {
   "cell_type": "markdown",
   "id": "b4f1d6ea",
   "metadata": {},
   "source": [
    "# Python OOPs Assignment"
   ]
  },
  {
   "cell_type": "raw",
   "id": "933c39b4",
   "metadata": {},
   "source": [
    "Q1. Write a Python program to demonstrate multiple inheritance.\n",
    "1. Employee class has 3 data members EmployeeID, Gender (String), Salary and\n",
    "Performance Rating(Out of 5) of type int. It has a get() function to get these details from\n",
    "the user.\n",
    "2. Joining Detail class has a data member Date Of Joining of type Date and a function\n",
    "get DoJ to get the Date of joining of employees.\n",
    "3. Information Class uses the marks from Employee class and the Date Of Joining date\n",
    "from the Joining Detail class to calculate the top 3 Employees based on their Ratings\n",
    "and then Display, using read Data, all the details on these employees in Ascendingorder of their Date Of Joining"
   ]
  },
  {
   "cell_type": "code",
   "execution_count": null,
   "id": "c29272fe",
   "metadata": {},
   "outputs": [],
   "source": [
    "import datetime\n",
    "\n",
    "# Define the Employee class\n",
    "class Employee:\n",
    "    # Initialize the data members\n",
    "    def __init__(self, employee_id, gender, salary, performance_rating):\n",
    "        self.employee_id = employee_id\n",
    "        self.gender = gender\n",
    "        self.salary = salary\n",
    "        self.performance_rating = performance_rating\n",
    "\n",
    "    # Define the get() function to get the details from the user\n",
    "    def get(self):\n",
    "        self.employee_id = input(\"Enter the employee ID: \")\n",
    "        self.gender = input(\"Enter the gender: \")\n",
    "        self.salary = int(input(\"Enter the salary: \"))\n",
    "        self.performance_rating = int(input(\"Enter the performance rating (out of 5): \"))\n",
    "\n",
    "# Define the JoiningDetail class\n",
    "class JoiningDetail:\n",
    "    # Initialize the data member\n",
    "    def __init__(self, date_of_joining):\n",
    "        self.date_of_joining = date_of_joining\n",
    "\n",
    "    # Define the getDoJ() function to get the date of joining from the user\n",
    "    def getDoJ(self):\n",
    "        # Get the date components from the user\n",
    "        year = int(input(\"Enter the year of joining: \"))\n",
    "        month = int(input(\"Enter the month of joining: \"))\n",
    "        day = int(input(\"Enter the day of joining: \"))\n",
    "        # Create a datetime object\n",
    "        self.date_of_joining = datetime.date(year, month, day)\n",
    "\n",
    "# Define the Information class that inherits from both Employee and JoiningDetail\n",
    "class Information(Employee, JoiningDetail):\n",
    "    # Initialize the data members\n",
    "    def __init__(self, employee_id, gender, salary, performance_rating, date_of_joining):\n",
    "        # Call the parent class constructors\n",
    "        Employee.__init__(self, employee_id, gender, salary, performance_rating)\n",
    "        JoiningDetail.__init__(self, date_of_joining)\n",
    "\n",
    "    # Define a function to read the data from the user\n",
    "    def readData(self):\n",
    "        # Call the parent class functions\n",
    "        self.get()\n",
    "        self.getDoJ()\n",
    "\n",
    "    # Define a function to display the data\n",
    "    def displayData(self):\n",
    "        print(\"Employee ID:\", self.employee_id)\n",
    "        print(\"Gender:\", self.gender)\n",
    "        print(\"Salary:\", self.salary)\n",
    "        print(\"Performance Rating:\", self.performance_rating)\n",
    "        print(\"Date of Joining:\", self.date_of_joining)\n",
    "\n",
    "# Define a function to find the top 3 employees based on their ratings\n",
    "def findTop3(employees):\n",
    "    # Sort the employees list by their ratings in descending order\n",
    "    employees.sort(key=lambda x: x.performance_rating, reverse=True)\n",
    "    # Return the first 3 elements of the list\n",
    "    return employees[:3]\n",
    "\n",
    "# Define a function to display the top 3 employees in ascending order of their date of joining\n",
    "def displayTop3(employees):\n",
    "    # Find the top 3 employees\n",
    "    top3 = findTop3(employees)\n",
    "    # Sort the top 3 employees by their date of joining in ascending order\n",
    "    top3.sort(key=lambda x: x.date_of_joining)\n",
    "    # Display the details of each employee\n",
    "    for employee in top3:\n",
    "        employee.displayData()\n",
    "        print()\n",
    "\n",
    "# Create a list of employees\n",
    "employees = []\n",
    "# Get the number of employees from the user\n",
    "n = int(input(\"Enter the number of employees: \"))\n",
    "# Loop through the number of employees\n",
    "for i in range(n):\n",
    "    # Create an object of the Information class\n",
    "    info = Information(0, \"\", 0, 0, None)\n",
    "    # Read the data from the user\n",
    "    info.readData()\n",
    "    # Append the object to the list\n",
    "    employees.append(info)\n",
    "\n",
    "# Display the top 3 employees\n",
    "displayTop3(employees)\n"
   ]
  },
  {
   "cell_type": "raw",
   "id": "ff91d4b0",
   "metadata": {},
   "source": [
    "Q.2 Write a Python program to demonstrate Polymorphism.\n",
    "1. Class Vehicle with a parameterized function Fare, that takes input value as fare and\n",
    "returns it to calling Objects.\n",
    "2. Create five separate variables Bus, Car, Train, Truck and Ship that call the Fare\n",
    "function.\n",
    "3. Use a third variable TotalFare to store the sum of fare for each Vehicle Type.\n",
    "4. Print the TotalFare."
   ]
  },
  {
   "cell_type": "code",
   "execution_count": 1,
   "id": "3f50768d",
   "metadata": {},
   "outputs": [
    {
     "name": "stdout",
     "output_type": "stream",
     "text": [
      "The total fare for all the vehicles is: 750\n"
     ]
    }
   ],
   "source": [
    "# Define the Vehicle class\n",
    "class Vehicle:\n",
    "    # Define the parameterized function Fare\n",
    "    def Fare(self, fare):\n",
    "        return fare\n",
    "\n",
    "# Create five separate variables for different types of vehicles\n",
    "Bus = Vehicle()\n",
    "Car = Vehicle()\n",
    "Train = Vehicle()\n",
    "Truck = Vehicle()\n",
    "Ship = Vehicle()\n",
    "\n",
    "# Call the Fare function for each vehicle with some arbitrary values\n",
    "bus_fare = Bus.Fare(50)\n",
    "car_fare = Car.Fare(100)\n",
    "train_fare = Train.Fare(150)\n",
    "truck_fare = Truck.Fare(200)\n",
    "ship_fare = Ship.Fare(250)\n",
    "\n",
    "# Use a third variable to store the sum of fare for each vehicle type\n",
    "TotalFare = bus_fare + car_fare + train_fare + truck_fare + ship_fare\n",
    "\n",
    "# Print the TotalFare\n",
    "print(\"The total fare for all the vehicles is:\", TotalFare)\n"
   ]
  },
  {
   "cell_type": "raw",
   "id": "134b925f",
   "metadata": {},
   "source": [
    "Q3. Consider an ongoing test cricket series. Following are the names of the players and their\n",
    "scores in the test1 and 2.\n",
    "Test Match 1 :\n",
    "Dhoni : 56 , Balaji : 94\n",
    "Test Match 2 :\n",
    "Balaji : 80 , Dravid : 105\n",
    "Calculate the highest number of runs scored by an individual cricketer in both of the matches.\n",
    "Create a python function Max_Score (M) that reads a dictionary M that recognizes the player\n",
    "with the highest total score. This function will return ( Top player , Total Score ) . You can\n",
    "consider the Top player as String who is the highest scorer and Top score as Integer .\n",
    "Input : Max_Score({‘test1’:{‘Dhoni’:56, ‘Balaji : 85}, ‘test2’:{‘Dhoni’ 87, ‘Balaji’’:200}})\n",
    "Output : (‘Balaji ‘ , 200)"
   ]
  },
  {
   "cell_type": "code",
   "execution_count": 2,
   "id": "a075c895",
   "metadata": {},
   "outputs": [
    {
     "name": "stdout",
     "output_type": "stream",
     "text": [
      "('Balaji', 200)\n"
     ]
    }
   ],
   "source": [
    "# Define the Max_Score function\n",
    "def Max_Score(M):\n",
    "    # Initialize the top player and top score variables\n",
    "    top_player = \"\"\n",
    "    top_score = 0\n",
    "    # Loop through the dictionary M\n",
    "    for test, scores in M.items():\n",
    "        # Loop through the scores of each test\n",
    "        for player, score in scores.items():\n",
    "            # Check if the score is greater than the current top score\n",
    "            if score > top_score:\n",
    "                # Update the top player and top score variables\n",
    "                top_player = player\n",
    "                top_score = score\n",
    "    # Return the top player and top score as a tuple\n",
    "    return (top_player, top_score)\n",
    "\n",
    "# Test the function with the given input\n",
    "print(Max_Score({'test1':{'Dhoni':56, 'Balaji':85}, 'test2':{'Dhoni':87, 'Balaji':200}}))"
   ]
  },
  {
   "cell_type": "raw",
   "id": "2e8f24e3",
   "metadata": {},
   "source": [
    "Q4. Create a simple Card game in which there are 8 cards which are randomly chosen from a\n",
    "deck. The first card is shown face up. The game asks the player to predict whether the next card\n",
    "in the selection will have a higher or lower value than the currently showing card.\n",
    "For example, say the card that’s shown is a 3. The player chooses “higher,” and the next card is\n",
    "shown. If that card has a higher value, the player is correct. In this example, if the player had\n",
    "chosen “lower,” they would have been incorrect. If the player guesses correctly, they get 20\n",
    "points. If they choose incorrectly, they lose 15 points. If the next card to be turned over has the\n",
    "same value as the previous card, the player is incorrect."
   ]
  },
  {
   "cell_type": "code",
   "execution_count": null,
   "id": "14eacc91",
   "metadata": {},
   "outputs": [
    {
     "name": "stdout",
     "output_type": "stream",
     "text": [
      "The first card is:\n",
      "3 of Diamonds\n"
     ]
    }
   ],
   "source": [
    "import random\n",
    "\n",
    "class Card:\n",
    "    def __init__(self, suit, rank):\n",
    "        self.suit = suit\n",
    "        self.rank = rank\n",
    "\n",
    "    def value(self):\n",
    "        rank_values = {\"A\": 1, \"2\": 2, \"3\": 3, \"4\": 4, \"5\": 5, \"6\": 6, \"7\": 7, \"8\": 8, \"9\": 9, \"10\": 10, \"J\": 11, \"Q\": 12, \"K\": 13}\n",
    "        return rank_values[self.rank]\n",
    "\n",
    "    def show(self):\n",
    "        print(self.rank + \" of \" + self.suit)\n",
    "\n",
    "class Deck:\n",
    "    def __init__(self):\n",
    "        self.cards = []\n",
    "        self.build()\n",
    "\n",
    "    def build(self):\n",
    "        suits = [\"Spades\", \"Clubs\", \"Diamonds\", \"Hearts\"]\n",
    "        ranks = [\"A\", \"2\", \"3\", \"4\", \"5\", \"6\", \"7\", \"8\", \"9\", \"10\", \"J\", \"Q\", \"K\"]\n",
    "        for suit in suits:\n",
    "            for rank in ranks:\n",
    "                self.cards.append(Card(suit, rank))\n",
    "\n",
    "    def shuffle(self):\n",
    "        random.shuffle(self.cards)\n",
    "\n",
    "    def draw(self):\n",
    "        return self.cards.pop()\n",
    "\n",
    "class Game:\n",
    "    def __init__(self):\n",
    "        self.deck = Deck()\n",
    "        self.deck.shuffle()\n",
    "        self.score = 0\n",
    "        self.current_card = None\n",
    "        self.next_card = None\n",
    "\n",
    "    def start(self):\n",
    "        self.current_card = self.deck.draw()\n",
    "        print(\"The first card is:\")\n",
    "        self.current_card.show()\n",
    "       \n",
    "        for i in range(7):\n",
    "            # Ask the player to predict whether the next card will be higher or lower\n",
    "            prediction = input(\"Will the next card be higher or lower? (H/L): \")\n",
    "            # Draw the next card and show it to the player\n",
    "            self.next_card = self.deck.draw()\n",
    "            print(\"The next card is:\")\n",
    "            self.next_card.show()\n",
    "            # Check if the player's prediction is correct\n",
    "            if prediction.upper() == \"H\" and self.next_card.value() > self.current_card.value():\n",
    "                # If the player guessed higher and the next card is higher, they are correct\n",
    "                print(\"You are correct!\")\n",
    "                # Add 20 points to the score\n",
    "                self.score += 20\n",
    "            elif prediction.upper() == \"L\" and self.next_card.value() < self.current_card.value():\n",
    "                # If the player guessed lower and the next card is lower, they are correct\n",
    "                print(\"You are correct!\")\n",
    "                # Add 20 points to the score\n",
    "                self.score += 20\n",
    "            else:\n",
    "                # If the player guessed incorrectly or the next card is the same, they are incorrect\n",
    "                print(\"You are incorrect!\")\n",
    "                # Subtract 15 points from the score\n",
    "                self.score -= 15\n",
    "            # Update the current card to be the next card\n",
    "            self.current_card = self.next_card\n",
    "        # After the loop, display the final score to the player\n",
    "        print(\"Your final score is:\", self.score)\n",
    "\n",
    "\n",
    "g = Game()\n",
    "\n",
    "g.start()"
   ]
  },
  {
   "cell_type": "raw",
   "id": "fb90608f",
   "metadata": {},
   "source": [
    "Q5. Create an empty dictionary called Car_0 . Then fill the dictionary with Keys : color , speed\n",
    ", X_position and Y_position.\n",
    "car_0 = {'x_position': 10, 'y_position': 72, 'speed': 'medium'} .\n",
    "a) If the speed is slow the coordinates of the X_pos get incremented by 2.\n",
    "b) If the speed is Medium the coordinates of the X_pos gets incremented by 9\n",
    "c) Now if the speed is Fast the coordinates of the X_pos gets incremented by 22.\n",
    "Print the modified dictionary"
   ]
  },
  {
   "cell_type": "code",
   "execution_count": 1,
   "id": "cafc5091",
   "metadata": {},
   "outputs": [
    {
     "name": "stdout",
     "output_type": "stream",
     "text": [
      "The original dictionary is:\n",
      "{'color': 'red', 'speed': 'medium', 'x_position': 10, 'y_position': 72}\n",
      "The modified dictionary is:\n",
      "{'color': 'red', 'speed': 'medium', 'x_position': 19, 'y_position': 72}\n"
     ]
    }
   ],
   "source": [
    "Car_0 = {}\n",
    "\n",
    "Car_0['color'] = 'red'\n",
    "Car_0['speed'] = 'medium'\n",
    "Car_0['x_position'] = 10\n",
    "Car_0['y_position'] = 72\n",
    "\n",
    "print(\"The original dictionary is:\")\n",
    "print(Car_0)\n",
    "# Check the speed of the car and increment the x_position accordingly\n",
    "if Car_0['speed'] == 'slow':\n",
    "    Car_0['x_position'] += 2\n",
    "elif Car_0['speed'] == 'medium':\n",
    "    Car_0['x_position'] += 9\n",
    "elif Car_0['speed'] == 'fast':\n",
    "    Car_0['x_position'] += 22\n",
    "\n",
    "print(\"The modified dictionary is:\")\n",
    "print(Car_0)"
   ]
  },
  {
   "cell_type": "raw",
   "id": "43bc78a2",
   "metadata": {},
   "source": [
    "Q6. Show a basic implementation of abstraction in python using the abstract classes.\n",
    "1. Create an abstract class in python.\n",
    "2. Implement abstraction with the other classes and base class as abstract class"
   ]
  },
  {
   "cell_type": "code",
   "execution_count": 2,
   "id": "e69ff87e",
   "metadata": {},
   "outputs": [
    {
     "name": "stdout",
     "output_type": "stream",
     "text": [
      "Woof!\n",
      "Meow!\n"
     ]
    }
   ],
   "source": [
    "from abc import ABC, abstractmethod\n",
    "\n",
    "class Animal(ABC):\n",
    "    @abstractmethod\n",
    "    def make_sound(self):\n",
    "        pass\n",
    "\n",
    "class Dog(Animal):\n",
    "    # Override the make_sound method and provide an implementation\n",
    "    def make_sound(self):\n",
    "        print(\"Woof!\")\n",
    "\n",
    "class Cat(Animal):\n",
    "    # Override the make_sound method and provide an implementation\n",
    "    def make_sound(self):\n",
    "        print(\"Meow!\")\n",
    "\n",
    "d = Dog()\n",
    "# Call the make_sound method on the object\n",
    "d.make_sound()\n",
    "\n",
    "c = Cat()\n",
    "# Call the make_sound method on the object\n",
    "c.make_sound()\n"
   ]
  },
  {
   "cell_type": "raw",
   "id": "6a489cb3",
   "metadata": {},
   "source": [
    "Q7. Create a program in python to demonstrate Polymorphism.\n",
    "1. Make use of private and protected members using python name mangling techniques."
   ]
  },
  {
   "cell_type": "code",
   "execution_count": 3,
   "id": "62dfae2e",
   "metadata": {},
   "outputs": [
    {
     "name": "stdout",
     "output_type": "stream",
     "text": [
      "Hello, I am Fluffy.\n",
      "Woof!\n",
      "Hello, I am Kitty.\n",
      "Meow!\n"
     ]
    }
   ],
   "source": [
    "from abc import ABC, abstractmethod\n",
    "\n",
    "class Animal(ABC):\n",
    "    def __init__(self, name):\n",
    "        self._name = name\n",
    "\n",
    "    #abstract method called make_sound\n",
    "    @abstractmethod\n",
    "    def make_sound(self):\n",
    "        pass\n",
    "\n",
    "    #private method called __greet\n",
    "    def __greet(self):\n",
    "        print(f\"Hello, I am {self._name}.\")\n",
    "\n",
    "    #public method called introduce\n",
    "    def introduce(self):\n",
    "        # Call the private method __greet\n",
    "        self.__greet()\n",
    "        # Call the abstract method make_sound\n",
    "        self.make_sound()\n",
    "\n",
    "class Dog(Animal):\n",
    "    # Override the make_sound method and provide an implementation\n",
    "    def make_sound(self):\n",
    "        print(\"Woof!\")\n",
    "\n",
    "class Cat(Animal):\n",
    "    # Override the make_sound method and provide an implementation\n",
    "    def make_sound(self):\n",
    "        print(\"Meow!\")\n",
    "\n",
    "d = Dog(\"Fluffy\")\n",
    "# Call the introduce method on the object\n",
    "d.introduce()\n",
    "\n",
    "c = Cat(\"Kitty\")\n",
    "# Call the introduce method on the object\n",
    "c.introduce()"
   ]
  },
  {
   "cell_type": "raw",
   "id": "d411bdd6",
   "metadata": {},
   "source": [
    "Q8. Given a list of 50 natural numbers from 1-50. Create a function that will take every element\n",
    "from the list and return the square of each element. Use the python map and filter methods to\n",
    "implement the function on the given list."
   ]
  },
  {
   "cell_type": "code",
   "execution_count": 4,
   "id": "8911c157",
   "metadata": {},
   "outputs": [
    {
     "name": "stdout",
     "output_type": "stream",
     "text": [
      "[1, 4, 9, 16, 25, 36, 49, 64, 81, 100, 121, 144, 169, 196, 225, 256, 289, 324, 361, 400, 441, 484, 529, 576, 625, 676, 729, 784, 841, 900, 961, 1024, 1089, 1156, 1225, 1296, 1369, 1444, 1521, 1600, 1681, 1764, 1849, 1936, 2025, 2116, 2209, 2304, 2401, 2500]\n"
     ]
    }
   ],
   "source": [
    "numbers = list(range(1, 51))\n",
    "\n",
    "def square(x):\n",
    "    return x ** 2\n",
    "\n",
    "squared_numbers = list(map(square, numbers))\n",
    "\n",
    "print(squared_numbers)"
   ]
  },
  {
   "cell_type": "raw",
   "id": "a29c0374",
   "metadata": {},
   "source": [
    "Q9. Create a class, Triangle. Its init() method should take self, angle1, angle2, and angle3 as\n",
    "arguments."
   ]
  },
  {
   "cell_type": "code",
   "execution_count": 5,
   "id": "3041ae70",
   "metadata": {},
   "outputs": [],
   "source": [
    "class Triangle:\n",
    "    def __init__(self, angle1, angle2, angle3):\n",
    "        # Set the angles as attributes of the instance\n",
    "        self.angle1 = angle1\n",
    "        self.angle2 = angle2\n",
    "        self.angle3 = angle3\n",
    "        # Create a variable named number_of_sides and set it equal to 3\n",
    "        self.number_of_sides = 3\n",
    "\n",
    "    def check_angles(self):\n",
    "        return self.angle1 + self.angle2 + self.angle3 == 180"
   ]
  },
  {
   "cell_type": "code",
   "execution_count": 9,
   "id": "10efe5dd",
   "metadata": {},
   "outputs": [
    {
     "name": "stdout",
     "output_type": "stream",
     "text": [
      "3\n",
      "True\n"
     ]
    }
   ],
   "source": [
    "t = Triangle(45, 74, 61)\n",
    "\n",
    "print(t.number_of_sides)\n",
    "print(t.check_angles())\n"
   ]
  },
  {
   "cell_type": "raw",
   "id": "71fbf4f0",
   "metadata": {},
   "source": [
    "Q10. Create a class variable named number_of_sides and set it equal to 3."
   ]
  },
  {
   "cell_type": "code",
   "execution_count": 2,
   "id": "a4ef4d4d",
   "metadata": {},
   "outputs": [
    {
     "name": "stdout",
     "output_type": "stream",
     "text": [
      "3\n"
     ]
    }
   ],
   "source": [
    "class Shape:\n",
    "    number_of_sides = 3\n",
    "\n",
    "print(Shape.number_of_sides)  "
   ]
  },
  {
   "cell_type": "raw",
   "id": "df5f3931",
   "metadata": {},
   "source": [
    "Q11. Create a method named check_angles. The sum of a triangle's three angles should return\n",
    "True if the sum is equal to 180, and False otherwise. The method should print whether the\n",
    "angles belong to a triangle or not.\n",
    "11.1 Write methods to verify if the triangle is an acute triangle or obtuse triangle.\n",
    "11.2 Create an instance of the triangle class and call all the defined methods.\n",
    "11.3 Create three child classes of triangle class - isosceles_triangle, right_triangle and\n",
    "equilateral_triangle.\n",
    "11.4 Define methods which check for their properties."
   ]
  },
  {
   "cell_type": "code",
   "execution_count": 3,
   "id": "46b393d5",
   "metadata": {},
   "outputs": [],
   "source": [
    "class Triangle:\n",
    "    def __init__(self, angle1, angle2, angle3):\n",
    "        self.angle1 = angle1\n",
    "        self.angle2 = angle2\n",
    "        self.angle3 = angle3\n",
    "\n",
    "    def check_angles(self):\n",
    "        if self.angle1 + self.angle2 + self.angle3 == 180:\n",
    "            return True\n",
    "        else:\n",
    "            return False\n",
    "\n",
    "    def check_type(self):\n",
    "        if self.angle1 < 90 and self.angle2 < 90 and self.angle3 < 90:\n",
    "            return \"Acute Triangle\"\n",
    "        elif self.angle1 > 90 or self.angle2 > 90 or self.angle3 > 90:\n",
    "            return \"Obtuse Triangle\"\n",
    "        else:\n",
    "            return \"Right Triangle\"\n",
    "\n",
    "class IsoscelesTriangle(Triangle):\n",
    "    def check_properties(self):\n",
    "        return self.angle1 == self.angle2 or self.angle2 == self.angle3 or self.angle1 == self.angle3\n",
    "\n",
    "class RightTriangle(Triangle):\n",
    "    def check_properties(self):\n",
    "        return self.angle1 == 90 or self.angle2 == 90 or self.angle3 == 90\n",
    "\n",
    "class EquilateralTriangle(Triangle):\n",
    "    def check_properties(self):\n",
    "        return self.angle1 == self.angle2 == self.angle3 == 60\n"
   ]
  },
  {
   "cell_type": "code",
   "execution_count": 5,
   "id": "39df9661",
   "metadata": {},
   "outputs": [
    {
     "name": "stdout",
     "output_type": "stream",
     "text": [
      "True\n",
      "Acute Triangle\n"
     ]
    }
   ],
   "source": [
    "triangle = Triangle(60, 45, 75)\n",
    "print(triangle.check_angles())  \n",
    "print(triangle.check_type())  "
   ]
  },
  {
   "cell_type": "code",
   "execution_count": 11,
   "id": "df98244f",
   "metadata": {},
   "outputs": [
    {
     "name": "stdout",
     "output_type": "stream",
     "text": [
      "True\n",
      "True\n",
      "True\n"
     ]
    }
   ],
   "source": [
    "isosceles_triangle = IsoscelesTriangle(70, 70, 40)\n",
    "print(isosceles_triangle.check_properties())  \n",
    "\n",
    "right_triangle = RightTriangle(90, 45, 45)\n",
    "print(right_triangle.check_properties())  \n",
    "\n",
    "equilateral_triangle = EquilateralTriangle(60, 60, 60)\n",
    "print(equilateral_triangle.check_properties()) "
   ]
  },
  {
   "cell_type": "raw",
   "id": "278cb6a7",
   "metadata": {},
   "source": [
    "Q12. Create a class isosceles_right_triangle which inherits from isosceles_triangle and\n",
    "right_triangle.\n",
    "12.1 Define methods which check for their properties"
   ]
  },
  {
   "cell_type": "code",
   "execution_count": 13,
   "id": "b9861ae5",
   "metadata": {},
   "outputs": [],
   "source": [
    "class Triangle:\n",
    "    def __init__(self, angle1, angle2, angle3):\n",
    "        self.angle1 = angle1\n",
    "        self.angle2 = angle2\n",
    "        self.angle3 = angle3\n",
    "\n",
    "class IsoscelesTriangle(Triangle):\n",
    "    def is_isosceles(self):\n",
    "        return self.angle1 == self.angle2 or self.angle2 == self.angle3 or self.angle1 == self.angle3\n",
    "\n",
    "class RightTriangle(IsoscelesTriangle):\n",
    "    def is_right(self):\n",
    "        return self.angle1 == 90 or self.angle2 == 90 or self.angle3 == 90\n",
    "\n",
    "class IsoscelesRightTriangle(RightTriangle):\n",
    "    def check_properties(self):\n",
    "        return self.is_right() and self.is_isosceles()"
   ]
  },
  {
   "cell_type": "code",
   "execution_count": 14,
   "id": "4c4cde3b",
   "metadata": {},
   "outputs": [
    {
     "name": "stdout",
     "output_type": "stream",
     "text": [
      "True\n"
     ]
    }
   ],
   "source": [
    "isosceles_right_triangle = IsoscelesRightTriangle(90, 45, 45)\n",
    "print(isosceles_right_triangle.check_properties())  "
   ]
  }
 ],
 "metadata": {
  "kernelspec": {
   "display_name": "Python 3 (ipykernel)",
   "language": "python",
   "name": "python3"
  },
  "language_info": {
   "codemirror_mode": {
    "name": "ipython",
    "version": 3
   },
   "file_extension": ".py",
   "mimetype": "text/x-python",
   "name": "python",
   "nbconvert_exporter": "python",
   "pygments_lexer": "ipython3",
   "version": "3.9.13"
  }
 },
 "nbformat": 4,
 "nbformat_minor": 5
}
